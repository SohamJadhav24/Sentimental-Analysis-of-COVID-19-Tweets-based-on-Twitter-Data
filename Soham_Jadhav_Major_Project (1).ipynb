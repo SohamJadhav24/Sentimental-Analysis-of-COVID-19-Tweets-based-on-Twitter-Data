{
  "nbformat": 4,
  "nbformat_minor": 0,
  "metadata": {
    "colab": {
      "provenance": []
    },
    "kernelspec": {
      "name": "python3",
      "display_name": "Python 3"
    },
    "language_info": {
      "name": "python"
    }
  },
  "cells": [
    {
      "cell_type": "markdown",
      "source": [
        "###Name : Soham Jadhav.      \n",
        "###Email: sai.sohamiit@gmail.com\n",
        "###Contact number: 8767443482"
      ],
      "metadata": {
        "id": "b-lidpequeqI"
      }
    },
    {
      "cell_type": "markdown",
      "source": [
        "# **Problem Statement : Create a classification model to predict sentiment either (Positive or Negative) based on Covid Tweets**"
      ],
      "metadata": {
        "id": "l2u8JnQeu99t"
      }
    },
    {
      "cell_type": "markdown",
      "source": [
        "###Steps to consider:\n",
        "1)Read the dataset with encoding parameter set to ‘latin1’\n",
        "\n",
        "2)Remove handle null values (if any).\n",
        "\n",
        "3)Preprocess the Covid tweets based on the following parameter:\n",
        "\n",
        "a) Tokenizing words\n",
        "b) Convert words to lower case\n",
        "c) Removing Punctuations\n",
        "d) Removing Stop words\n",
        "e) Stemming or lemmatizing the words\n",
        "\n",
        "4)Convert the 'Extremely Positive' and 'Extremely Negative' Sentiments to 'Positive' and l\n",
        "'Negative' sentiments respectively\n",
        "\n",
        "5)Transform the words into vectors using\n",
        "a)Count Vectorizer\n",
        "OR\n",
        "b)TF-IDF Vectorizer\n",
        "\n",
        "6)Split data into training and test data.\n",
        "\n",
        "7)Apply the following models on the training dataset and generate the predicted value\n",
        "for the test dataset\n",
        "a) Multinomial Naïve Bayes Classification\n",
        "b) SVM Classification\n",
        "c) KNN Classification\n",
        "\n",
        "8)Predict the Sentiment for test data\n",
        "\n",
        "9)Compute Confusion matrix and classification report for each of these models\n",
        "\n",
        "10)Report the model with the best accuracy."
      ],
      "metadata": {
        "id": "4SoAYco_vE1y"
      }
    },
    {
      "cell_type": "code",
      "execution_count": null,
      "metadata": {
        "id": "-fPaxPdYuQRA"
      },
      "outputs": [],
      "source": [
        "import numpy as np\n",
        "import pandas as pd\n",
        "\n",
        "from sklearn.model_selection import train_test_split\n",
        "from sklearn.metrics import confusion_matrix\n",
        "from sklearn.metrics import classification_report"
      ]
    },
    {
      "cell_type": "markdown",
      "source": [
        "### Step 1: Read the dataset with encoding parameter set to ‘latin1’"
      ],
      "metadata": {
        "id": "p2CHw4nnvUnX"
      }
    },
    {
      "cell_type": "code",
      "source": [
        "df = pd.read_csv('Corona_NLP (2).csv',encoding='latin1')"
      ],
      "metadata": {
        "id": "JFO6fk8Zu8J-"
      },
      "execution_count": null,
      "outputs": []
    },
    {
      "cell_type": "markdown",
      "source": [
        "### Step 2: Remove handle null values (if any)."
      ],
      "metadata": {
        "id": "AtBqb1OdvUZo"
      }
    },
    {
      "cell_type": "code",
      "source": [
        "df.info()"
      ],
      "metadata": {
        "colab": {
          "base_uri": "https://localhost:8080/"
        },
        "id": "BSZEY77Hu8GY",
        "outputId": "2ca08e92-61c7-4cae-cca2-0122a6cd5c2c"
      },
      "execution_count": null,
      "outputs": [
        {
          "output_type": "stream",
          "name": "stdout",
          "text": [
            "<class 'pandas.core.frame.DataFrame'>\n",
            "RangeIndex: 41157 entries, 0 to 41156\n",
            "Data columns (total 6 columns):\n",
            " #   Column         Non-Null Count  Dtype \n",
            "---  ------         --------------  ----- \n",
            " 0   UserName       41157 non-null  int64 \n",
            " 1   ScreenName     41157 non-null  int64 \n",
            " 2   Location       32567 non-null  object\n",
            " 3   TweetAt        41157 non-null  object\n",
            " 4   OriginalTweet  41157 non-null  object\n",
            " 5   Sentiment      41157 non-null  object\n",
            "dtypes: int64(2), object(4)\n",
            "memory usage: 1.9+ MB\n"
          ]
        }
      ]
    },
    {
      "cell_type": "code",
      "source": [
        "# All of the null values are present in Location column. Either we can drop the records where Location is NaN\n",
        "# or we can ignore the Location column as its not relevant for sentiment analysis.\n",
        "# We can even impute the missing values using mode of the column.\n",
        "# Lets drop the nan records\n",
        "# df.dropna(inplace=True) # uncomment if want to drop all records where Location is NaN\n",
        "df.drop('Location', inplace=True, axis=1) # uncomment if we want to drop `Location` column\n",
        "df.reset_index(inplace=True, drop=True)"
      ],
      "metadata": {
        "id": "o17sVY7Eu8ET"
      },
      "execution_count": null,
      "outputs": []
    },
    {
      "cell_type": "markdown",
      "source": [
        "### Step 3: Preprocess the text\n"
      ],
      "metadata": {
        "id": "03bWQb55vlXs"
      }
    },
    {
      "cell_type": "code",
      "source": [
        "import nltk, re\n",
        "nltk.download('stopwords')\n",
        "nltk.download('punkt')\n",
        "nltk.download('wordnet')\n",
        "from nltk.tokenize import word_tokenize\n",
        "from nltk.corpus import stopwords\n",
        "from nltk.stem import WordNetLemmatizer\n",
        "\n",
        "lemmatizer = WordNetLemmatizer()\n",
        "stop_words = stopwords.words('english')"
      ],
      "metadata": {
        "colab": {
          "base_uri": "https://localhost:8080/"
        },
        "id": "zcgcUd_du8BC",
        "outputId": "59dc3515-5a52-422a-a996-132c31567d91"
      },
      "execution_count": null,
      "outputs": [
        {
          "output_type": "stream",
          "name": "stdout",
          "text": [
            "[nltk_data] Downloading package stopwords to /root/nltk_data...\n",
            "[nltk_data]   Unzipping corpora/stopwords.zip.\n",
            "[nltk_data] Downloading package punkt to /root/nltk_data...\n",
            "[nltk_data]   Unzipping tokenizers/punkt.zip.\n",
            "[nltk_data] Downloading package wordnet to /root/nltk_data...\n",
            "[nltk_data]   Unzipping corpora/wordnet.zip.\n"
          ]
        }
      ]
    },
    {
      "cell_type": "code",
      "source": [
        "def clean_text(text):\n",
        "    # remove punctuations first\n",
        "    text = re.sub(r'[^\\w\\s]', '', text)\n",
        "\n",
        "    text = re.sub(r'http\\S+', ' ', text)\n",
        "\n",
        "    # For removing html tags:\n",
        "    text = re.sub(r'<.*?>', ' ', text)\n",
        "\n",
        "    # For removing digits:\n",
        "    text = re.sub(r'\\d+', ' ', text)\n",
        "\n",
        "    # For removing hashtags:\n",
        "    text = re.sub(r'#\\w+', ' ', text)\n",
        "\n",
        "    # For removing mentions:\n",
        "    text = re.sub(r'@\\w+', ' ', text)\n",
        "\n",
        "    # replace underscore\n",
        "    text = text.replace('_', ' ')\n",
        "\n",
        "    # lowercase\n",
        "    text = text.lower()\n",
        "\n",
        "    # tokenize\n",
        "    text_tokens = word_tokenize(text)\n",
        "\n",
        "    filtered_lemmatized_tokens = []\n",
        "\n",
        "    for token in text_tokens:\n",
        "        if token not in stop_words:\n",
        "            filtered_lemmatized_tokens.append(lemmatizer.lemmatize(token))\n",
        "\n",
        "    return ' '.join(filtered_lemmatized_tokens)"
      ],
      "metadata": {
        "id": "gpZVbZHvu7_G"
      },
      "execution_count": null,
      "outputs": []
    },
    {
      "cell_type": "code",
      "source": [
        "df['CleanedTweet'] = df['OriginalTweet'].apply(clean_text)"
      ],
      "metadata": {
        "id": "9EQzZIVcu77v"
      },
      "execution_count": null,
      "outputs": []
    },
    {
      "cell_type": "markdown",
      "source": [
        "### Step 4: Convert the 'Extremely Positive' and 'Extremely Negative' Sentiments to 'Positive' and 'Negative' sentiments respectively"
      ],
      "metadata": {
        "id": "DHpZB7YBwDXI"
      }
    },
    {
      "cell_type": "code",
      "source": [
        "sentiment_encoding = {\n",
        "    'Extremely Negative': 0,\n",
        "    'Negative': 0,\n",
        "    'Neutral': 1,\n",
        "    'Positive': 2,\n",
        "    'Extremely Positive': 2\n",
        "}\n",
        "\n",
        "df['Sentiment'] = df['Sentiment'].replace(sentiment_encoding)"
      ],
      "metadata": {
        "id": "mFgAXRfhu75c"
      },
      "execution_count": null,
      "outputs": []
    },
    {
      "cell_type": "markdown",
      "source": [
        "### Step 5: Transforms words to vectors\n",
        "(b)TF-IDF Vectorizer"
      ],
      "metadata": {
        "id": "kkyFLIYCwIiU"
      }
    },
    {
      "cell_type": "code",
      "source": [
        "from sklearn.feature_extraction.text import TfidfVectorizer, CountVectorizer"
      ],
      "metadata": {
        "id": "7QfmrZvMu71r"
      },
      "execution_count": null,
      "outputs": []
    },
    {
      "cell_type": "code",
      "source": [
        "vectorizer = TfidfVectorizer()\n",
        "# vectorizer = CountVectorizer()\n",
        "X = vectorizer.fit_transform(df['CleanedTweet'])\n",
        "\n"
      ],
      "metadata": {
        "id": "EVK0qtUMu7zo"
      },
      "execution_count": null,
      "outputs": []
    },
    {
      "cell_type": "code",
      "source": [
        "X.shape"
      ],
      "metadata": {
        "colab": {
          "base_uri": "https://localhost:8080/"
        },
        "id": "tqrwj1oxu7v0",
        "outputId": "d0c1d20e-7991-4138-d867-f45b7020bd53"
      },
      "execution_count": null,
      "outputs": [
        {
          "output_type": "execute_result",
          "data": {
            "text/plain": [
              "(41157, 55039)"
            ]
          },
          "metadata": {},
          "execution_count": 12
        }
      ]
    },
    {
      "cell_type": "markdown",
      "source": [
        "### Step 6: Split data into training and test data.\n",
        "\n"
      ],
      "metadata": {
        "id": "goKYyedCwbpN"
      }
    },
    {
      "cell_type": "code",
      "source": [
        "from sklearn.model_selection import train_test_split\n",
        "\n",
        "Y = df['Sentiment'].values\n",
        "\n",
        "X_train, X_test, Y_train, Y_test = train_test_split(X, Y, shuffle=True, test_size=0.25)"
      ],
      "metadata": {
        "id": "AkkoLwsRu7tq"
      },
      "execution_count": null,
      "outputs": []
    },
    {
      "cell_type": "markdown",
      "source": [
        "### Step 7: Apply the following models on the training dataset\n",
        "a) Multinomial Naïve Bayes Classification <br>\n",
        "b) SVM Classification <br>\n",
        "c) KNN Classification <br>"
      ],
      "metadata": {
        "id": "tjMyJ9hTwm6q"
      }
    },
    {
      "cell_type": "markdown",
      "source": [
        "a) Multinomial Naïve Bayes Classification"
      ],
      "metadata": {
        "id": "3lwLx_mqwrGk"
      }
    },
    {
      "cell_type": "code",
      "source": [
        "from sklearn.naive_bayes import MultinomialNB\n",
        "from sklearn.svm import SVC\n",
        "from sklearn.neighbors import KNeighborsClassifier"
      ],
      "metadata": {
        "id": "XjppPmcIu7nE"
      },
      "execution_count": null,
      "outputs": []
    },
    {
      "cell_type": "code",
      "source": [
        "mNB = MultinomialNB()\n",
        "mNB.fit(X_train, Y_train)\n",
        "\n",
        "score = mNB.score(X_test, Y_test)\n",
        "print('Multinomial Naive Bayes Accuracy:', score*100.0)"
      ],
      "metadata": {
        "colab": {
          "base_uri": "https://localhost:8080/"
        },
        "id": "fPveDtxnu7kC",
        "outputId": "58acae70-c775-4737-a3ed-1d819a69611e"
      },
      "execution_count": null,
      "outputs": [
        {
          "output_type": "stream",
          "name": "stdout",
          "text": [
            "Multinomial Naive Bayes Accuracy: 62.857142857142854\n"
          ]
        }
      ]
    },
    {
      "cell_type": "markdown",
      "source": [
        "b) SVM Classification"
      ],
      "metadata": {
        "id": "N7YIHqMWwzzv"
      }
    },
    {
      "cell_type": "code",
      "source": [
        "import pickle as pb\n",
        "\n",
        "svc = SVC(kernel='linear')\n",
        "svc.fit(X_train, Y_train)\n",
        "\n",
        "score = svc.score(X_test, Y_test)\n",
        "print('SVM Classifier Accuracy:', score*100.0)\n",
        "\n",
        "# save svm model\n",
        "with open('svm.model', 'wb') as f:\n",
        "    pb.dump(svc, f)\n",
        "\n",
        "# uncomment below lines to load the model\n",
        "# with open('svm.model', 'rb') as f:\n",
        "#     svc = pb.load(f)"
      ],
      "metadata": {
        "colab": {
          "base_uri": "https://localhost:8080/"
        },
        "id": "HdW19hE1u7g6",
        "outputId": "ad8c45c6-bdbc-445a-eb9c-05d8d63db45c"
      },
      "execution_count": null,
      "outputs": [
        {
          "output_type": "stream",
          "name": "stdout",
          "text": [
            "SVM Classifier Accuracy: 78.70748299319727\n"
          ]
        }
      ]
    },
    {
      "cell_type": "markdown",
      "source": [
        "c) KNN Classification"
      ],
      "metadata": {
        "id": "shJAI4m7w-nV"
      }
    },
    {
      "cell_type": "code",
      "source": [
        "knn = KNeighborsClassifier(n_neighbors=200)\n",
        "knn.fit(X_train, Y_train)\n",
        "\n",
        "score = knn.score(X_test, Y_test)\n",
        "print('K Nearest Neighbors Classifier Accuracy:', score*100.0)"
      ],
      "metadata": {
        "colab": {
          "base_uri": "https://localhost:8080/"
        },
        "id": "FWfv5JuDu7dW",
        "outputId": "5b5b0015-d3fa-4588-f431-7bf9f0c172bc"
      },
      "execution_count": null,
      "outputs": [
        {
          "output_type": "stream",
          "name": "stdout",
          "text": [
            "K Nearest Neighbors Classifier Accuracy: 63.11953352769679\n"
          ]
        }
      ]
    },
    {
      "cell_type": "markdown",
      "source": [
        "###Step 8 : Predict the Sentiment for test data"
      ],
      "metadata": {
        "id": "Qmw4d86mxGmI"
      }
    },
    {
      "cell_type": "markdown",
      "source": [
        "a) Multinomial Naïve Bayes Classification"
      ],
      "metadata": {
        "id": "hXj9pV7ZxGbV"
      }
    },
    {
      "cell_type": "code",
      "source": [
        "mNB.predict(X_test)"
      ],
      "metadata": {
        "colab": {
          "base_uri": "https://localhost:8080/"
        },
        "id": "FJt5uJ90xMPY",
        "outputId": "9140295c-d86e-497b-bc66-b162f5fed62d"
      },
      "execution_count": null,
      "outputs": [
        {
          "output_type": "execute_result",
          "data": {
            "text/plain": [
              "array([2, 2, 0, ..., 2, 2, 2])"
            ]
          },
          "metadata": {},
          "execution_count": 18
        }
      ]
    },
    {
      "cell_type": "markdown",
      "source": [
        "b) SVM Classification"
      ],
      "metadata": {
        "id": "hresTUY-xSut"
      }
    },
    {
      "cell_type": "code",
      "source": [
        "svc.predict(X_test)"
      ],
      "metadata": {
        "colab": {
          "base_uri": "https://localhost:8080/"
        },
        "id": "yp2WWJf8xRo_",
        "outputId": "d7501e09-99f2-4117-d969-def91e94824c"
      },
      "execution_count": null,
      "outputs": [
        {
          "output_type": "execute_result",
          "data": {
            "text/plain": [
              "array([2, 2, 0, ..., 2, 2, 2])"
            ]
          },
          "metadata": {},
          "execution_count": 19
        }
      ]
    },
    {
      "cell_type": "markdown",
      "source": [
        "c) KNN Classification"
      ],
      "metadata": {
        "id": "y45HR2vQxQ-l"
      }
    },
    {
      "cell_type": "code",
      "source": [
        "knn.predict(X_test)"
      ],
      "metadata": {
        "colab": {
          "base_uri": "https://localhost:8080/"
        },
        "id": "E2X429gfxRio",
        "outputId": "249b0f62-bd9c-4382-e56b-b6414cec175f"
      },
      "execution_count": null,
      "outputs": [
        {
          "output_type": "execute_result",
          "data": {
            "text/plain": [
              "array([2, 2, 0, ..., 2, 2, 2])"
            ]
          },
          "metadata": {},
          "execution_count": 20
        }
      ]
    },
    {
      "cell_type": "markdown",
      "source": [
        "###Step 9: Compute Confusion matrix and classification report for each of these models\n",
        "\n",
        "a) Multinomial Naïve Bayes Classification <br>\n",
        "b) SVM Classification <br>\n",
        "c) KNN Classification <br>"
      ],
      "metadata": {
        "id": "3gHW8SsDxipn"
      }
    },
    {
      "cell_type": "code",
      "source": [
        "import seaborn as sns"
      ],
      "metadata": {
        "id": "WYloMSLZyLl4"
      },
      "execution_count": null,
      "outputs": []
    },
    {
      "cell_type": "markdown",
      "source": [
        "a) Multinomial Naïve Bayes Classification"
      ],
      "metadata": {
        "id": "oHluGrd1x0Gh"
      }
    },
    {
      "cell_type": "code",
      "source": [
        "from sklearn.metrics import confusion_matrix"
      ],
      "metadata": {
        "id": "qGSH_LkGxo1K"
      },
      "execution_count": null,
      "outputs": []
    },
    {
      "cell_type": "code",
      "source": [
        "Y_predmNB = mNB.predict(X_test)"
      ],
      "metadata": {
        "id": "jeopLsFmyCNj"
      },
      "execution_count": null,
      "outputs": []
    },
    {
      "cell_type": "code",
      "source": [
        "cm_mNB = confusion_matrix(Y_test , Y_predmNB)\n",
        "print(cm_mNB)"
      ],
      "metadata": {
        "colab": {
          "base_uri": "https://localhost:8080/"
        },
        "id": "1YvionQryCKi",
        "outputId": "39317ab8-2bb9-4bba-eabf-5d69a1924412"
      },
      "execution_count": null,
      "outputs": [
        {
          "output_type": "stream",
          "name": "stdout",
          "text": [
            "[[2344    2 1592]\n",
            " [ 390   30 1481]\n",
            " [ 353    4 4094]]\n"
          ]
        }
      ]
    },
    {
      "cell_type": "code",
      "source": [
        "import matplotlib.pyplot as plt\n"
      ],
      "metadata": {
        "id": "dLWr07TI0SPF"
      },
      "execution_count": null,
      "outputs": []
    },
    {
      "cell_type": "code",
      "source": [
        "sns.heatmap(cm_mNB)\n",
        "plt.show()"
      ],
      "metadata": {
        "colab": {
          "base_uri": "https://localhost:8080/",
          "height": 265
        },
        "id": "l6mBzA4k0SBw",
        "outputId": "a0df6754-8e53-4c7d-e7ac-8718f64565d8"
      },
      "execution_count": null,
      "outputs": [
        {
          "output_type": "display_data",
          "data": {
            "text/plain": [
              "<Figure size 432x288 with 2 Axes>"
            ],
            "image/png": "[encoded data removed]"
          },
          "metadata": {
            "needs_background": "light"
          }
        }
      ]
    },
    {
      "cell_type": "code",
      "source": [
        "print(classification_report(Y_test,Y_predmNB))"
      ],
      "metadata": {
        "colab": {
          "base_uri": "https://localhost:8080/"
        },
        "id": "M30jmdhBya6V",
        "outputId": "4021ee4d-e34b-4608-8572-50f8f3da8b0d"
      },
      "execution_count": null,
      "outputs": [
        {
          "output_type": "stream",
          "name": "stdout",
          "text": [
            "              precision    recall  f1-score   support\n",
            "\n",
            "           0       0.76      0.60      0.67      3938\n",
            "           1       0.83      0.02      0.03      1901\n",
            "           2       0.57      0.92      0.70      4451\n",
            "\n",
            "    accuracy                           0.63     10290\n",
            "   macro avg       0.72      0.51      0.47     10290\n",
            "weighted avg       0.69      0.63      0.57     10290\n",
            "\n"
          ]
        }
      ]
    },
    {
      "cell_type": "markdown",
      "source": [
        "b) SVM Classification"
      ],
      "metadata": {
        "id": "jiYFQR_8ykZl"
      }
    },
    {
      "cell_type": "code",
      "source": [
        "Y_predsvc = svc.predict(X_test)"
      ],
      "metadata": {
        "id": "rYv3nXlbybjw"
      },
      "execution_count": null,
      "outputs": []
    },
    {
      "cell_type": "code",
      "source": [
        "cm_svc = confusion_matrix(Y_test , Y_predsvc)\n",
        "print(cm_svc)"
      ],
      "metadata": {
        "colab": {
          "base_uri": "https://localhost:8080/"
        },
        "id": "hJui1rT8ybfw",
        "outputId": "a602eefe-acb7-4964-fe53-edfffecf08dd"
      },
      "execution_count": null,
      "outputs": [
        {
          "output_type": "stream",
          "name": "stdout",
          "text": [
            "[[3125  278  535]\n",
            " [ 336 1233  332]\n",
            " [ 452  258 3741]]\n"
          ]
        }
      ]
    },
    {
      "cell_type": "code",
      "source": [
        "sns.heatmap(cm_svc)\n",
        "plt.show()"
      ],
      "metadata": {
        "colab": {
          "base_uri": "https://localhost:8080/",
          "height": 265
        },
        "id": "3dki1i5tzIBt",
        "outputId": "57e527f9-e733-4dd1-eff9-d3269c37aa5f"
      },
      "execution_count": null,
      "outputs": [
        {
          "output_type": "display_data",
          "data": {
            "text/plain": [
              "<Figure size 432x288 with 2 Axes>"
            ],
            "image/png": "[encoded data removed]"
          },
          "metadata": {
            "needs_background": "light"
          }
        }
      ]
    },
    {
      "cell_type": "code",
      "source": [
        "print(classification_report(Y_test,Y_predsvc))"
      ],
      "metadata": {
        "colab": {
          "base_uri": "https://localhost:8080/"
        },
        "id": "R9NVdvKvzH-0",
        "outputId": "faa0c51b-a2d7-4586-fd91-a66aff780cf8"
      },
      "execution_count": null,
      "outputs": [
        {
          "output_type": "stream",
          "name": "stdout",
          "text": [
            "              precision    recall  f1-score   support\n",
            "\n",
            "           0       0.80      0.79      0.80      3938\n",
            "           1       0.70      0.65      0.67      1901\n",
            "           2       0.81      0.84      0.83      4451\n",
            "\n",
            "    accuracy                           0.79     10290\n",
            "   macro avg       0.77      0.76      0.76     10290\n",
            "weighted avg       0.79      0.79      0.79     10290\n",
            "\n"
          ]
        }
      ]
    },
    {
      "cell_type": "markdown",
      "source": [
        "c) KNN Classification"
      ],
      "metadata": {
        "id": "8lvBQA0NzNLv"
      }
    },
    {
      "cell_type": "code",
      "source": [
        "Y_predknn = knn.predict(X_test)"
      ],
      "metadata": {
        "id": "4Cuo55HpzQAi"
      },
      "execution_count": null,
      "outputs": []
    },
    {
      "cell_type": "code",
      "source": [
        "cm_knn = confusion_matrix(Y_test , Y_predknn)\n",
        "print(cm_knn)"
      ],
      "metadata": {
        "colab": {
          "base_uri": "https://localhost:8080/"
        },
        "id": "k5eZ6uoFzSrj",
        "outputId": "36df832e-69cf-480a-9eab-e6867810e1f3"
      },
      "execution_count": null,
      "outputs": [
        {
          "output_type": "stream",
          "name": "stdout",
          "text": [
            "[[2270  351 1317]\n",
            " [ 359  631  911]\n",
            " [ 538  319 3594]]\n"
          ]
        }
      ]
    },
    {
      "cell_type": "code",
      "source": [
        "sns.heatmap(cm_knn)\n",
        "plt.show()"
      ],
      "metadata": {
        "colab": {
          "base_uri": "https://localhost:8080/",
          "height": 265
        },
        "id": "c3SLIeVIzSoo",
        "outputId": "5833f1ca-5279-4ad8-e601-ea30fd3586df"
      },
      "execution_count": null,
      "outputs": [
        {
          "output_type": "display_data",
          "data": {
            "text/plain": [
              "<Figure size 432x288 with 2 Axes>"
            ],
            "image/png": "[encoded data removed]"
          },
          "metadata": {
            "needs_background": "light"
          }
        }
      ]
    },
    {
      "cell_type": "code",
      "source": [
        "print(classification_report(Y_test,Y_predknn))"
      ],
      "metadata": {
        "colab": {
          "base_uri": "https://localhost:8080/"
        },
        "id": "zBiGGm7gzjFB",
        "outputId": "0bcb0573-8364-488c-fbe5-c1f023686473"
      },
      "execution_count": null,
      "outputs": [
        {
          "output_type": "stream",
          "name": "stdout",
          "text": [
            "              precision    recall  f1-score   support\n",
            "\n",
            "           0       0.72      0.58      0.64      3938\n",
            "           1       0.49      0.33      0.39      1901\n",
            "           2       0.62      0.81      0.70      4451\n",
            "\n",
            "    accuracy                           0.63     10290\n",
            "   macro avg       0.61      0.57      0.58     10290\n",
            "weighted avg       0.63      0.63      0.62     10290\n",
            "\n"
          ]
        }
      ]
    },
    {
      "cell_type": "markdown",
      "source": [
        "###Step 10 : Report the model with the best accuracy."
      ],
      "metadata": {
        "id": "JGyn9SLQzrHk"
      }
    },
    {
      "cell_type": "markdown",
      "source": [
        "Model with the best accuracy: SVM Classifier\n",
        "SVM Classifier Accuracy: 79.3974732750243\n",
        "\n",
        "SVM Classifier is the model with highest accuracy obtained if compared with the 'Multinomial Naive Bayes Classification' and 'KNN Classification'.\n",
        "SVM Classifier offers best accuracy because it works by mapping data to a high-dimensional feature space so that data points can be categorized, even when the data are not otherwise linearly separable. A separator between the categories is found, then the data are transformed in such a way that the separator could be drawn as a hyperplane."
      ],
      "metadata": {
        "id": "NrcPqQUzztpZ"
      }
    },
    {
      "cell_type": "markdown",
      "source": [
        "# ***THANKYOU***"
      ],
      "metadata": {
        "id": "U38DdlGm0rMn"
      }
    }
  ]
}